{
 "cells": [
  {
   "cell_type": "markdown",
   "metadata": {},
   "source": [
    "## Fetches data from DB, loads audio\n",
    "`data` is a pandas DataFrame, and `player` is an object that will play back a segment given a start and end time"
   ]
  },
  {
   "cell_type": "code",
   "execution_count": null,
   "metadata": {},
   "outputs": [],
   "source": [
    "import pandas as pd\n",
    "from fetch_data import get_results_dataframe\n",
    "from player import Player\n",
    "\n",
    "data = get_results_dataframe()\n",
    "player = Player()\n",
    "\n",
    "FOREST = 0\n",
    "HARSH = 1\n",
    "STREET = 2"
   ]
  },
  {
   "cell_type": "code",
   "execution_count": null,
   "metadata": {},
   "outputs": [],
   "source": [
    "grouped_df = data.sort_values(\"Start\").groupby([\"Song\", \"Label\"])\n",
    "for key, item in grouped_df:\n",
    "    print(grouped_df.get_group(key), \"\\n\\n\")"
   ]
  },
  {
   "cell_type": "code",
   "execution_count": null,
   "metadata": {
    "collapsed": true
   },
   "outputs": [],
   "source": [
    "player.play(FOREST, 0.1, 0.3)"
   ]
  }
 ],
 "metadata": {
  "kernelspec": {
   "display_name": "musi-6001",
   "language": "python",
   "name": "musi-6001"
  },
  "language_info": {
   "codemirror_mode": {
    "name": "ipython",
    "version": 3
   },
   "file_extension": ".py",
   "mimetype": "text/x-python",
   "name": "python",
   "nbconvert_exporter": "python",
   "pygments_lexer": "ipython3",
   "version": "3.7.1"
  }
 },
 "nbformat": 4,
 "nbformat_minor": 2
}

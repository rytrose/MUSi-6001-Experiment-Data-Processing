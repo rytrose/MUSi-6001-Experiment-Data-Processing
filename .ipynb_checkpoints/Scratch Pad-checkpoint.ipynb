{
 "cells": [
  {
   "cell_type": "markdown",
   "metadata": {},
   "source": [
    "## Fetches data from DB, loads audio\n",
    "`data` is a pandas DataFrame, and `player` is an object that will play back a segment given a start and end time"
   ]
  },
  {
   "cell_type": "code",
   "execution_count": 1,
   "metadata": {},
   "outputs": [
    {
     "name": "stderr",
     "output_type": "stream",
     "text": [
      "/Users/rytrose/anaconda3/envs/musi-6001/lib/python3.7/site-packages/psycopg2/__init__.py:144: UserWarning: The psycopg2 wheel package will be renamed from release 2.8; in order to keep installing from binary please use \"pip install psycopg2-binary\" instead. For details see: <http://initd.org/psycopg/docs/install.html#binary-install-from-pypi>.\n",
      "  \"\"\")\n"
     ]
    },
    {
     "name": "stdout",
     "output_type": "stream",
     "text": [
      "Loaded songs.\n"
     ]
    }
   ],
   "source": [
    "import pandas as pd\n",
    "from fetch_data import get_results_dataframe\n",
    "from player import Player\n",
    "\n",
    "data = get_results_dataframe()\n",
    "player = Player()\n",
    "\n",
    "FOREST = 0\n",
    "HARSH = 1\n",
    "STREET = 2"
   ]
  },
  {
   "cell_type": "code",
   "execution_count": null,
   "metadata": {},
   "outputs": [],
   "source": [
    "grouped_df = data.sort_values(\"Start\").groupby([\"Song\", \"Label\"])\n",
    "for key, item in grouped_df:\n",
    "    print(grouped_df.get_group(key), \"\\n\\n\")"
   ]
  },
  {
   "cell_type": "code",
   "execution_count": 9,
   "metadata": {},
   "outputs": [
    {
     "name": "stdout",
     "output_type": "stream",
     "text": [
      "Percussionist Group rhythmic/melodic ratio: 1.1935483870967742\n",
      "Instrumentalist Group rhythmic/melodic ratio: 1.2202380952380953\n"
     ]
    }
   ],
   "source": [
    "gb = data.groupby([\"Musician Type\"])\n",
    "perc_value_counts = gb.get_group(\"Percussionist\")[\"Label\"].value_counts()\n",
    "perc_rtm_to_mel = perc_value_counts[\"rhythmic\"] / perc_value_counts[\"melodic\"]\n",
    "\n",
    "inst_value_counts = gb.get_group(\"Instrumentalist\")[\"Label\"].value_counts()\n",
    "inst_rtm_to_mel = inst_value_counts[\"rhythmic\"] / inst_value_counts[\"melodic\"]\n",
    "\n",
    "print(\"Percussionist Group rhythmic/melodic ratio:\", perc_rtm_to_mel)\n",
    "print(\"Instrumentalist Group rhythmic/melodic ratio:\", inst_rtm_to_mel)"
   ]
  },
  {
   "cell_type": "code",
   "execution_count": 19,
   "metadata": {},
   "outputs": [
    {
     "name": "stdout",
     "output_type": "stream",
     "text": [
      "903083687 (Instrumentalist): 2.6\n",
      "903086455 (Instrumentalist): 0.8181818181818182\n",
      "903165064 (Percussionist): 0.6923076923076923\n",
      "903232755 (Instrumentalist): 1.40625\n",
      "903307328 (Instrumentalist): 0.4444444444444444\n",
      "903307335 (Instrumentalist): 1.0952380952380953\n",
      "903337531 (Percussionist): 1.5\n",
      "903339825 (Percussionist): 1.625\n",
      "903352025 (Instrumentalist): 1.1111111111111112\n",
      "903391589 (Instrumentalist): 1.3157894736842106\n",
      "903396080 (Instrumentalist): 1.5\n",
      "903417226 (Instrumentalist): 1.375\n",
      "903423561 (Instrumentalist): 0.875\n",
      "903428888 (Instrumentalist): 0.6666666666666666\n",
      "903446600 (Instrumentalist): 1.4285714285714286\n",
      "903447018 (Instrumentalist): 1.1428571428571428\n",
      "903447693 (Instrumentalist): 1.1428571428571428\n",
      "903447762 (Instrumentalist): 5.0\n",
      "Percussionist individual average rhythmic/melodic ratio: 0.907051282051282\n",
      "Instrumentalist individual average rhythmic/melodic ratio: 0.3392398882256632\n"
     ]
    }
   ],
   "source": [
    "gb = data.groupby([\"ID\"])\n",
    "inst_avg = 0.0\n",
    "num_inst = 0\n",
    "\n",
    "perc_avg = 0.0\n",
    "num_perc = 0\n",
    "\n",
    "for gtid, _ in gb:\n",
    "    participant = gb.get_group(gtid)\n",
    "    musician_type = participant[\"Musician Type\"].iloc[0]\n",
    "    participant_value_counts = participant[\"Label\"].value_counts()\n",
    "    participant_rtm_to_mel = participant_value_counts[\"rhythmic\"] / participant_value_counts[\"melodic\"]\n",
    "    \n",
    "    if musician_type == \"Instrumentalist\":\n",
    "        num_inst += 1\n",
    "        inst_avg += participant_rtm_to_mel\n",
    "        inst_avg /= num_inst\n",
    "    else:\n",
    "        num_perc += 1\n",
    "        perc_avg += participant_rtm_to_mel\n",
    "        perc_avg /= num_perc\n",
    "    \n",
    "    print(gtid, \"(\" + musician_type + \"):\", participant_rtm_to_mel)\n",
    "    \n",
    "print(\"Percussionist individual average rhythmic/melodic ratio:\", perc_avg)\n",
    "print(\"Instrumentalist individual average rhythmic/melodic ratio:\", inst_avg)"
   ]
  }
 ],
 "metadata": {
  "kernelspec": {
   "display_name": "musi-6001",
   "language": "python",
   "name": "musi-6001"
  },
  "language_info": {
   "codemirror_mode": {
    "name": "ipython",
    "version": 3
   },
   "file_extension": ".py",
   "mimetype": "text/x-python",
   "name": "python",
   "nbconvert_exporter": "python",
   "pygments_lexer": "ipython3",
   "version": "3.7.1"
  }
 },
 "nbformat": 4,
 "nbformat_minor": 2
}

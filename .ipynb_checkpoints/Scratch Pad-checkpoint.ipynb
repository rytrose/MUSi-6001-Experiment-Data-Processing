{
 "cells": [
  {
   "cell_type": "markdown",
   "metadata": {},
   "source": [
    "## Fetches data from DB, loads audio\n",
    "`data` is a pandas DataFrame, and `player` is an object that will play back a segment given a start and end time"
   ]
  },
  {
   "cell_type": "code",
   "execution_count": 37,
   "metadata": {},
   "outputs": [
    {
     "name": "stdout",
     "output_type": "stream",
     "text": [
      "Loaded songs.\n"
     ]
    }
   ],
   "source": [
    "import pandas as pd\n",
    "from fetch_data import get_results_dataframe\n",
    "from player import Player\n",
    "import time\n",
    "from scipy.stats import ttest_ind, describe\n",
    "import matplotlib.pyplot as plt\n",
    "from matplotlib import cm\n",
    "\n",
    "data = get_results_dataframe()\n",
    "player = Player()\n",
    "\n",
    "FOREST = 0\n",
    "HARSH = 1\n",
    "STREET = 2"
   ]
  },
  {
   "cell_type": "code",
   "execution_count": null,
   "metadata": {
    "collapsed": true
   },
   "outputs": [],
   "source": [
    "def play_all():\n",
    "    grouped_df = data.sort_values(\"Start\").groupby([\"Song\", \"Label\"])\n",
    "    for key, item in grouped_df:\n",
    "    #     print(grouped_df.get_group(key), \"\\n\\n\")\n",
    "        d = grouped_df.get_group(key)\n",
    "        for _, row in d.iterrows():            \n",
    "            print(\"Playing %s (%s): %.4f-%.4f [%s]\" % (row[\"ID\"], row[\"Musician Type\"], row[\"Start\"], row[\"End\"], row[\"Label\"]))\n",
    "            try:\n",
    "                player.play(row[\"Song\"], row[\"Start\"], row[\"End\"])\n",
    "            except KeyboardInterrupt:\n",
    "                try:\n",
    "                    time.sleep(0.2)\n",
    "                except KeyboardInterrupt:\n",
    "                    try:\n",
    "                        time.sleep(0.2)\n",
    "                        break\n",
    "                    except KeyboardInterrupt:\n",
    "                        return\n",
    "                \n",
    "play_all()"
   ]
  },
  {
   "cell_type": "code",
   "execution_count": 20,
   "metadata": {},
   "outputs": [
    {
     "name": "stdout",
     "output_type": "stream",
     "text": [
      "Percussionist Group rhythmic/melodic ratio: 1.0833333333333333\n",
      "Instrumentalist Group rhythmic/melodic ratio: 1.2142857142857142\n"
     ]
    }
   ],
   "source": [
    "gb = data.groupby([\"Musician Type\"])\n",
    "perc_value_counts = gb.get_group(\"Percussionist\")[\"Label\"].value_counts()\n",
    "perc_rtm_to_mel = perc_value_counts[\"rhythmic\"] / perc_value_counts[\"melodic\"]\n",
    "\n",
    "inst_value_counts = gb.get_group(\"Instrumentalist\")[\"Label\"].value_counts()\n",
    "inst_rtm_to_mel = inst_value_counts[\"rhythmic\"] / inst_value_counts[\"melodic\"]\n",
    "\n",
    "print(\"Percussionist Group rhythmic/melodic ratio:\", perc_rtm_to_mel)\n",
    "print(\"Instrumentalist Group rhythmic/melodic ratio:\", inst_rtm_to_mel)"
   ]
  },
  {
   "cell_type": "code",
   "execution_count": 5,
   "metadata": {},
   "outputs": [
    {
     "name": "stdout",
     "output_type": "stream",
     "text": [
      "902946528 (Percussionist): 0.4\n",
      "903083687 (Instrumentalist): 2.6\n",
      "903086455 (Instrumentalist): 0.8181818181818182\n",
      "903165064 (Percussionist): 0.6923076923076923\n",
      "903232755 (Instrumentalist): 1.40625\n",
      "903307328 (Instrumentalist): 0.4444444444444444\n",
      "903307335 (Instrumentalist): 1.0952380952380953\n",
      "903337531 (Percussionist): 1.5\n",
      "903339276 (Instrumentalist): 1.1428571428571428\n",
      "903339825 (Percussionist): 1.625\n",
      "903352025 (Instrumentalist): 1.1111111111111112\n",
      "903391589 (Instrumentalist): 1.3157894736842106\n",
      "903396080 (Instrumentalist): 1.5\n",
      "903417226 (Instrumentalist): 1.375\n",
      "903423561 (Instrumentalist): 0.875\n",
      "903428888 (Instrumentalist): 0.6666666666666666\n",
      "903446600 (Instrumentalist): 1.4285714285714286\n",
      "903447018 (Instrumentalist): 1.1428571428571428\n",
      "903447693 (Instrumentalist): 1.1428571428571428\n",
      "903447762 (Instrumentalist): 5.0\n",
      "Percussionist individual average rhythmic/melodic ratio: 0.5767628205128205\n",
      "Instrumentalist individual average rhythmic/melodic ratio: 0.3176361969421458\n"
     ]
    }
   ],
   "source": [
    "gb = data.groupby([\"ID\"])\n",
    "inst_avg = 0.0\n",
    "num_inst = 0\n",
    "\n",
    "perc_avg = 0.0\n",
    "num_perc = 0\n",
    "\n",
    "inst_ratios = []\n",
    "perc_ratios = []\n",
    "\n",
    "for gtid, _ in gb:\n",
    "    participant = gb.get_group(gtid)\n",
    "    musician_type = participant[\"Musician Type\"].iloc[0]\n",
    "    participant_value_counts = participant[\"Label\"].value_counts()\n",
    "    participant_rtm_to_mel = participant_value_counts[\"rhythmic\"] / participant_value_counts[\"melodic\"]\n",
    "    \n",
    "    if musician_type == \"Instrumentalist\":\n",
    "        num_inst += 1\n",
    "        inst_avg += participant_rtm_to_mel\n",
    "        inst_ratios.append(participant_rtm_to_mel)\n",
    "        inst_avg /= num_inst\n",
    "    else:\n",
    "        num_perc += 1\n",
    "        perc_avg += participant_rtm_to_mel\n",
    "        perc_ratios.append(participant_rtm_to_mel)\n",
    "        perc_avg /= num_perc\n",
    "    \n",
    "    print(gtid, \"(\" + musician_type + \"):\", participant_rtm_to_mel)\n",
    "    \n",
    "print(\"Percussionist individual average rhythmic/melodic ratio:\", perc_avg)\n",
    "print(\"Instrumentalist individual average rhythmic/melodic ratio:\", inst_avg)"
   ]
  },
  {
   "cell_type": "code",
   "execution_count": null,
   "metadata": {},
   "outputs": [],
   "source": [
    "grouped_df = data.sort_values(\"Start\").groupby([\"Song\", \"Label\"])\n",
    "for key, item in grouped_df:\n",
    "    print(grouped_df.get_group(key), \"\\n\\n\")"
   ]
  },
  {
   "cell_type": "code",
   "execution_count": null,
   "metadata": {
    "collapsed": true
   },
   "outputs": [],
   "source": [
    "player.play(HARSH, 0.0, 7.0)"
   ]
  },
  {
   "cell_type": "code",
   "execution_count": 7,
   "metadata": {},
   "outputs": [
    {
     "name": "stdout",
     "output_type": "stream",
     "text": [
      "[0.4, 0.6923076923076923, 1.5, 1.625]\n",
      "[2.6, 0.8181818181818182, 1.40625, 0.4444444444444444, 1.0952380952380953, 1.1428571428571428, 1.1111111111111112, 1.3157894736842106, 1.5, 1.375, 0.875, 0.6666666666666666, 1.4285714285714286, 1.1428571428571428, 1.1428571428571428, 5.0]\n"
     ]
    }
   ],
   "source": [
    "print(perc_ratios)\n",
    "print(inst_ratios)"
   ]
  },
  {
   "cell_type": "code",
   "execution_count": 19,
   "metadata": {},
   "outputs": [
    {
     "name": "stdout",
     "output_type": "stream",
     "text": [
      "Instrumentalist mean, var: 1.441552, 1.122044\n",
      "Percussionist mean, var: 1.054327, 0.361165\n",
      "t: 0.6943462978314141 p: 0.4963300004734358\n"
     ]
    }
   ],
   "source": [
    "inst_desc = describe(inst_ratios)\n",
    "perc_desc = describe(perc_ratios)\n",
    "print(\"Instrumentalist mean, var: %f, %f\" % (inst_desc.mean, inst_desc.variance))\n",
    "print(\"Percussionist mean, var: %f, %f\" % (perc_desc.mean, perc_desc.variance))\n",
    "\n",
    "t, p = ttest_ind(inst_ratios, perc_ratios)\n",
    "print(\"t:\", t, \"p:\", p)"
   ]
  },
  {
   "cell_type": "code",
   "execution_count": 41,
   "metadata": {},
   "outputs": [
    {
     "name": "stderr",
     "output_type": "stream",
     "text": [
      "'c' argument looks like a single numeric RGB or RGBA sequence, which should be avoided as value-mapping will have precedence in case its length matches with 'x' & 'y'.  Please use a 2-D array with a single row if you really want to specify the same RGB or RGBA value for all points.\n"
     ]
    },
    {
     "data": {
      "text/plain": [
       "<matplotlib.collections.PathCollection at 0x1a2b207fd0>"
      ]
     },
     "execution_count": 41,
     "metadata": {},
     "output_type": "execute_result"
    },
    {
     "data": {
      "image/png": "[encoded data removed]",
      "text/plain": [
       "<Figure size 432x288 with 1 Axes>"
      ]
     },
     "metadata": {
      "needs_background": "light"
     },
     "output_type": "display_data"
    }
   ],
   "source": [
    "plt.boxplot([inst_ratios, perc_ratios], labels=[\"Melodic Instr.\", \"Percussionists\"])\n",
    "plt.scatter([0.85 for _ in range(len(inst_ratios))], inst_ratios, c=\"blue\")\n",
    "plt.scatter([1.85 for _ in range(len(perc_ratios))], perc_ratios, c=\"green\")"
   ]
  },
  {
   "cell_type": "code",
   "execution_count": null,
   "metadata": {
    "collapsed": true
   },
   "outputs": [],
   "source": []
  }
 ],
 "metadata": {
  "kernelspec": {
   "display_name": "musi-6001",
   "language": "python",
   "name": "musi-6001"
  },
  "language_info": {
   "codemirror_mode": {
    "name": "ipython",
    "version": 3
   },
   "file_extension": ".py",
   "mimetype": "text/x-python",
   "name": "python",
   "nbconvert_exporter": "python",
   "pygments_lexer": "ipython3",
   "version": "3.7.1"
  }
 },
 "nbformat": 4,
 "nbformat_minor": 2
}
